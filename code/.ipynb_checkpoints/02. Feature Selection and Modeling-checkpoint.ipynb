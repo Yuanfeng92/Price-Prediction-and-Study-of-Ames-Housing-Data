{
 "cells": [
  {
   "cell_type": "markdown",
   "metadata": {},
   "source": [
    "# Predicting Housing Prices (with Ames Housing Data)\n",
    "## Part 2 - Feature Selection and Modeling\n",
    "In this notebook, I will use the datasets prepared in part 1 to conduct modeling and feature selections. \n",
    "\n",
    "I will create a few models to test find the model with the best accuracy, try to select a few features to be used to create a production model.\n",
    "\n",
    "### Contents:\n",
    "- [Preparing Data](#Preparaing-Data)\n",
    "- [Model Testing (All Features)](#Model-Testing-with-All-Features)\n",
    "- [Feature Selection](#Feature-Selection)\n",
    "- [Model Testing (Selected Features)](#Model-Testing-with-Selected-Features)\n",
    "- [Production Model](#Production-Model)\n",
    "- [Housing Insights/Conclusion](#Housing-Insights-and-Conclusion)"
   ]
  },
  {
   "cell_type": "markdown",
   "metadata": {},
   "source": [
    "# Preparing Data"
   ]
  },
  {
   "cell_type": "markdown",
   "metadata": {},
   "source": [
    "## Importing Libraries and Datasets"
   ]
  },
  {
   "cell_type": "code",
   "execution_count": 1,
   "metadata": {
    "ExecuteTime": {
     "end_time": "2020-11-22T13:36:04.717307Z",
     "start_time": "2020-11-22T13:36:02.745091Z"
    },
    "scrolled": true
   },
   "outputs": [],
   "source": [
    "# importing libraries\n",
    "\n",
    "import numpy as np\n",
    "import pandas as pd\n",
    "import matplotlib.pyplot as plt\n",
    "import seaborn as sns\n",
    "sns.set_style('whitegrid')\n",
    "\n",
    "from sklearn.linear_model import Ridge, Lasso, ElasticNet, LinearRegression, RidgeCV, LassoCV, ElasticNetCV\n",
    "from sklearn.model_selection import cross_val_score, train_test_split\n",
    "from sklearn.preprocessing import StandardScaler\n",
    "from sklearn.metrics import mean_squared_error"
   ]
  },
  {
   "cell_type": "code",
   "execution_count": 2,
   "metadata": {
    "ExecuteTime": {
     "end_time": "2020-11-22T13:36:04.873542Z",
     "start_time": "2020-11-22T13:36:04.720302Z"
    },
    "scrolled": true
   },
   "outputs": [],
   "source": [
    "# reading the datasets from part 1\n",
    "train = pd.read_csv('../datasets/train_cleaned.csv')\n",
    "test = pd.read_csv('../datasets/test_cleaned.csv')"
   ]
  },
  {
   "cell_type": "code",
   "execution_count": 3,
   "metadata": {
    "ExecuteTime": {
     "end_time": "2020-11-22T13:36:04.888532Z",
     "start_time": "2020-11-22T13:36:04.875539Z"
    },
    "scrolled": true
   },
   "outputs": [
    {
     "name": "stdout",
     "output_type": "stream",
     "text": [
      "The shape of train dataset after preprocessing: (2043, 192)\n",
      "The shape of test dataset after preprocessing: (879, 191)\n"
     ]
    }
   ],
   "source": [
    "# checking the shape of the two datasets\n",
    "print(f'The shape of train dataset after preprocessing: {train.shape}')\n",
    "print(f'The shape of test dataset after preprocessing: {test.shape}')"
   ]
  },
  {
   "cell_type": "markdown",
   "metadata": {
    "ExecuteTime": {
     "end_time": "2020-11-20T02:43:53.765509Z",
     "start_time": "2020-11-20T02:43:53.752517Z"
    }
   },
   "source": [
    "## Prepare Training and Testing Dataset"
   ]
  },
  {
   "cell_type": "markdown",
   "metadata": {},
   "source": [
    "In order to ensure that the models created are accurate, I will create a training and testing dataset. The purpose of these two datasets are:\n",
    "\n",
    "1. Training dataset - To **train the model**.\n",
    "2. Testing dataset* - To ensure that the **model is not overfitting to the training data**.\n",
    "\n",
    "I will use **20% of the dataset as testing data**. This is to ensure that there is sufficient dataset for the models to train on. Furthermore, as I will be using LassoCV, RidgeCV and ElasticNetCV models, these models have **built-in cross-validation functions that checks for overfitting**.\n",
    "\n",
    "\\*Note that this will not be the dataframe called \"test\", as that dataset does not have the labels and hence cannot be used to check for overfitting or amount of error in the data."
   ]
  },
  {
   "cell_type": "code",
   "execution_count": 4,
   "metadata": {
    "ExecuteTime": {
     "end_time": "2020-11-22T13:36:04.904522Z",
     "start_time": "2020-11-22T13:36:04.891530Z"
    },
    "scrolled": true
   },
   "outputs": [],
   "source": [
    "# split the train dataset in X (features) and y (labels)\n",
    "X = train.drop(columns = 'saleprice').copy()\n",
    "y = train['saleprice']"
   ]
  },
  {
   "cell_type": "code",
   "execution_count": 5,
   "metadata": {
    "ExecuteTime": {
     "end_time": "2020-11-22T13:36:05.186631Z",
     "start_time": "2020-11-22T13:36:04.906521Z"
    }
   },
   "outputs": [],
   "source": [
    "# scale all data according to the train dataset and transform the test dataset using the same transformer \n",
    "scaler = StandardScaler()\n",
    "X.loc[:,X.columns] = scaler.fit_transform(X)\n",
    "test.loc[:,test.columns]  = scaler.transform(test)"
   ]
  },
  {
   "cell_type": "code",
   "execution_count": 6,
   "metadata": {
    "ExecuteTime": {
     "end_time": "2020-11-22T13:36:05.202622Z",
     "start_time": "2020-11-22T13:36:05.188630Z"
    },
    "scrolled": true
   },
   "outputs": [],
   "source": [
    "# perform train test split on the train dataset using 20% of all data as testing data\n",
    "X_train, X_test, y_train, y_test = train_test_split(X, y, test_size=0.20, random_state=11)"
   ]
  },
  {
   "cell_type": "markdown",
   "metadata": {},
   "source": [
    "\n",
    "# Model Testing with All Features\n",
    "As mentioned in the part 1, it is observed that **a few features that have high correlation with saleprice**, these include: overall quality, general living area, garage area, total basement square feet. \n",
    "\n",
    "As such, a **regularized linear model may be able to predict the housing price with an acceptable degree accuracy**. I will be using linear models to predict the housing price. These models include LinearRegression and linear models with regularization - Lasso, Ridge and ElasticNet. \n",
    "\n",
    "The models with regularization will help to ensure that the model do not overfit to the dataset provided as the dataset has a large number of features for a linear regression model.\n"
   ]
  },
  {
   "cell_type": "markdown",
   "metadata": {},
   "source": [
    "## Baseline Score\n",
    "However, before getting into a linear regression model, it will be useful to find out what the baseline score for the dataset is. The baseline score will be obtained by \"redicting\" any future saleprice using the mean of the saleprice from the training dataset.\n",
    "\n",
    "The RMSE between the \"predicted\" saleprice (mean of training dataset saleprice) and the actual saleprice of the testing dataset will be used as the baseline score."
   ]
  },
  {
   "cell_type": "code",
   "execution_count": 7,
   "metadata": {
    "ExecuteTime": {
     "end_time": "2020-11-22T13:36:05.218612Z",
     "start_time": "2020-11-22T13:36:05.205619Z"
    }
   },
   "outputs": [
    {
     "name": "stdout",
     "output_type": "stream",
     "text": [
      "The baseline RMSE is 80688.95\n"
     ]
    }
   ],
   "source": [
    "# create a series using the mean saleprice of the training dataset\n",
    "# number of entries is the same as number of entries of saleprice in testing dataset (y_test)\n",
    "mean_saleprice = pd.Series(y_train.mean()).repeat(len(y_test))\n",
    "\n",
    "# calculate and print the baseline RMSE\n",
    "baseline_rmse = np.sqrt(mean_squared_error(y_test, mean_saleprice))\n",
    "print(f'The baseline RMSE is {baseline_rmse:.2f}')"
   ]
  },
  {
   "cell_type": "markdown",
   "metadata": {
    "ExecuteTime": {
     "end_time": "2020-11-22T03:54:58.803794Z",
     "start_time": "2020-11-22T03:54:58.785806Z"
    }
   },
   "source": [
    "The baseline RMSE of 80689 is obtained using just the mean of the saleprice from the training dataset to \"predict\" the saleprice of property.\n",
    "\n",
    "This value will be used as a basis to compare the effectiveness of the subsequent models."
   ]
  },
  {
   "cell_type": "markdown",
   "metadata": {},
   "source": [
    "## Linear Regression Model"
   ]
  },
  {
   "cell_type": "code",
   "execution_count": 8,
   "metadata": {
    "ExecuteTime": {
     "end_time": "2020-11-22T13:36:05.234601Z",
     "start_time": "2020-11-22T13:36:05.223609Z"
    }
   },
   "outputs": [],
   "source": [
    "# define a function that create and runs a LinearRegression model\n",
    "def run_lr_model(X_train, X_test, y_train = y_train, y_test = y_test):\n",
    "    \n",
    "    '''\n",
    "    Takes in X_train, X_test, y_train, y_test\n",
    "    \n",
    "    Will print out the R2 score for the training and testing set, as well as the RMSE for the testing set\n",
    "    \n",
    "    Return:\n",
    "    1. List of R2 score of training set, R2 score of testing set and RMSE of testing set\n",
    "    2. The model that has been trained\n",
    "    '''\n",
    "    \n",
    "    model = LinearRegression()\n",
    "\n",
    "    model.fit(X_train, y_train)\n",
    "\n",
    "    train_r2 = model.score(X_train, y_train)\n",
    "    test_r2 = model.score(X_test, y_test)\n",
    "    rmse = np.sqrt(mean_squared_error(y_test, model.predict(X_test)))\n",
    "    \n",
    "    print(f'Linear Regression Statistics')\n",
    "    print(f'----------------------------')\n",
    "    print(f'R2 Training Set: {train_r2:.6f}, R2 Testing Set: {test_r2:.6f}')\n",
    "    print(f'RMSE: {rmse:.2f}')\n",
    "    \n",
    "    return [train_r2, test_r2, rmse], model"
   ]
  },
  {
   "cell_type": "code",
   "execution_count": 9,
   "metadata": {
    "ExecuteTime": {
     "end_time": "2020-11-22T13:36:05.297562Z",
     "start_time": "2020-11-22T13:36:05.236600Z"
    },
    "scrolled": true
   },
   "outputs": [
    {
     "name": "stdout",
     "output_type": "stream",
     "text": [
      "Linear Regression Statistics\n",
      "----------------------------\n",
      "R2 Training Set: 0.928982, R2 Testing Set: -125069090279249335541563392.000000\n",
      "RMSE: 902278563381126784.00\n"
     ]
    }
   ],
   "source": [
    "# run LinearRegression model with all features\n",
    "all_features_lr, all_features_lr_model = run_lr_model(X_train, X_test)"
   ]
  },
  {
   "cell_type": "markdown",
   "metadata": {},
   "source": [
    "Results will be evaluated with the other models later."
   ]
  },
  {
   "cell_type": "markdown",
   "metadata": {
    "ExecuteTime": {
     "end_time": "2020-11-20T13:46:34.634521Z",
     "start_time": "2020-11-20T13:46:34.615533Z"
    }
   },
   "source": [
    "## Lasso Model"
   ]
  },
  {
   "cell_type": "code",
   "execution_count": 10,
   "metadata": {
    "ExecuteTime": {
     "end_time": "2020-11-22T13:36:05.312552Z",
     "start_time": "2020-11-22T13:36:05.299561Z"
    }
   },
   "outputs": [],
   "source": [
    "# define a function that create and runs a LassoCV model\n",
    "def run_lassoCV_model(alpha_list, X_train, X_test, y_train = y_train, y_test = y_test):\n",
    "    \n",
    "    '''\n",
    "    Takes in:\n",
    "    1. List of alphas the LassoCV model will be trained on\n",
    "    2. X_train\n",
    "    3. X_test\n",
    "    5. y_train (optional, default to y_train)\n",
    "    6. y_test (optional, default to y_test)\n",
    "    \n",
    "    Will print out the alpha chosen for the model, the R2 score for the training and testing set, \n",
    "    as well as the RMSE for the testing set\n",
    "    \n",
    "    Return:\n",
    "    1. List of R2 score of training set, R2 score of testing set and RMSE of testing set\n",
    "    2. The model that has been trained\n",
    "    '''\n",
    "    \n",
    "    model = LassoCV(alphas = alpha_list)\n",
    "\n",
    "    model.fit(X_train, y_train)\n",
    "\n",
    "    train_r2 = model.score(X_train, y_train)\n",
    "    test_r2 = model.score(X_test, y_test)\n",
    "    rmse = np.sqrt(mean_squared_error(y_test, model.predict(X_test)))\n",
    "    \n",
    "    print(f'LassoCV Statistics')\n",
    "    print(f'------------------')\n",
    "    print(f'Alpha Chosen: {model.alpha_:.6f}')\n",
    "    print(f'R2 Training Set: {train_r2:.6f}, R2 Testing Set: {test_r2:.6f}')\n",
    "    print(f'RMSE: {rmse:.2f}')\n",
    "    \n",
    "    return [train_r2, test_r2, rmse], model"
   ]
  },
  {
   "cell_type": "code",
   "execution_count": 11,
   "metadata": {
    "ExecuteTime": {
     "end_time": "2020-11-22T13:36:06.630132Z",
     "start_time": "2020-11-22T13:36:05.314552Z"
    },
    "scrolled": true
   },
   "outputs": [
    {
     "name": "stdout",
     "output_type": "stream",
     "text": [
      "LassoCV Statistics\n",
      "------------------\n",
      "Alpha Chosen: 289.173967\n",
      "R2 Training Set: 0.926415, R2 Testing Set: 0.905644\n",
      "RMSE: 24782.86\n"
     ]
    }
   ],
   "source": [
    "# initialize a list of alphas to try\n",
    "alpha_list = np.linspace(270, 310, 800)\n",
    "\n",
    "# run LassoCV model with all features\n",
    "all_features_lasso, all_features_lasso_model = run_lassoCV_model(alpha_list, X_train, X_test)"
   ]
  },
  {
   "cell_type": "markdown",
   "metadata": {},
   "source": [
    "Results will be evaluated with the other models later."
   ]
  },
  {
   "cell_type": "markdown",
   "metadata": {},
   "source": [
    "## Ridge Model"
   ]
  },
  {
   "cell_type": "code",
   "execution_count": 12,
   "metadata": {
    "ExecuteTime": {
     "end_time": "2020-11-22T13:36:06.646139Z",
     "start_time": "2020-11-22T13:36:06.632131Z"
    }
   },
   "outputs": [],
   "source": [
    "# define a function that create and runs a RidgeCV model\n",
    "def run_ridgeCV_model(alpha_list, X_train, X_test, y_train = y_train, y_test = y_test):\n",
    "    \n",
    "    '''\n",
    "    Takes in:\n",
    "    1. List of alphas the RidgeCV model will be trained on\n",
    "    2. X_train\n",
    "    3. X_test\n",
    "    5. y_train (optional, default to y_train)\n",
    "    6. y_test (optional, default to y_test)\n",
    "    \n",
    "    Will print out the alpha chosen for the model, the R2 score for the training and testing set, \n",
    "    as well as the RMSE for the testing set\n",
    "    \n",
    "    Return:\n",
    "    1. List of R2 score of training set, R2 score of testing set and RMSE of testing set\n",
    "    2. The model that has been trained\n",
    "    '''\n",
    "    \n",
    "    model = RidgeCV(alphas = alpha_list)\n",
    "\n",
    "    model.fit(X_train, y_train)\n",
    "\n",
    "    train_r2 = model.score(X_train, y_train)\n",
    "    test_r2 = model.score(X_test, y_test)\n",
    "    rmse = np.sqrt(mean_squared_error(y_test, model.predict(X_test)))\n",
    "    \n",
    "    print(f'RidgeCV Statistics')\n",
    "    print(f'------------------')\n",
    "    print(f'Alpha Chosen: {model.alpha_:.6f}')\n",
    "    print(f'R2 Training Set: {train_r2:.6f}, R2 Testing Set: {test_r2:.6f}')\n",
    "    print(f'RMSE: {rmse:.2f}')\n",
    "    \n",
    "    return [train_r2, test_r2, rmse], model"
   ]
  },
  {
   "cell_type": "code",
   "execution_count": 13,
   "metadata": {
    "ExecuteTime": {
     "end_time": "2020-11-22T13:36:09.179495Z",
     "start_time": "2020-11-22T13:36:06.648138Z"
    },
    "scrolled": true
   },
   "outputs": [
    {
     "name": "stdout",
     "output_type": "stream",
     "text": [
      "RidgeCV Statistics\n",
      "------------------\n",
      "Alpha Chosen: 96.583229\n",
      "R2 Training Set: 0.927557, R2 Testing Set: 0.905264\n",
      "RMSE: 24832.66\n"
     ]
    }
   ],
   "source": [
    "# initialize a list of alphas to try\n",
    "alpha_list = np.linspace(70, 110, 800)\n",
    "\n",
    "# run RidgeCV model with all features\n",
    "all_features_ridge, all_features_ridge_model = run_ridgeCV_model(alpha_list, X_train, X_test)"
   ]
  },
  {
   "cell_type": "markdown",
   "metadata": {},
   "source": [
    "Results will be evaluated with the other models later."
   ]
  },
  {
   "cell_type": "markdown",
   "metadata": {},
   "source": [
    "## ElasticNet Model"
   ]
  },
  {
   "cell_type": "code",
   "execution_count": 14,
   "metadata": {
    "ExecuteTime": {
     "end_time": "2020-11-22T13:36:09.195502Z",
     "start_time": "2020-11-22T13:36:09.181007Z"
    }
   },
   "outputs": [],
   "source": [
    "# define a function that create and runs a ElasticNetCV model\n",
    "def run_enetCV_model(alpha_list,  X_train, X_test, l1_ratio_list = 0.5, y_train = y_train, y_test = y_test):\n",
    "    \n",
    "    '''\n",
    "    Takes in:\n",
    "    1. List of alphas the ElasticNetCV model will be trained on\n",
    "    2. X_train\n",
    "    3. X_test\n",
    "    4. L list of l1 ratios the ElasticNetCV model will be trained on (optional, default to 0.5)\n",
    "    5. y_train (optional, default to y_train)\n",
    "    6. y_test (optional, default to y_test)\n",
    "    \n",
    "    Will print out the alpha and L1 ratio chosen for the model, the R2 score for the training and testing set, \n",
    "    as well as the RMSE for the testing set\n",
    "    \n",
    "    Return:\n",
    "    1. List of R2 score of training set, R2 score of testing set and RMSE of testing set\n",
    "    2. The model that has been trained\n",
    "    '''\n",
    "    \n",
    "    model = ElasticNetCV(alphas = alpha_list, l1_ratio = l1_ratio_list)\n",
    "\n",
    "    model.fit(X_train, y_train)\n",
    "\n",
    "    train_r2 = model.score(X_train, y_train)\n",
    "    test_r2 = model.score(X_test, y_test)\n",
    "    rmse = np.sqrt(mean_squared_error(y_test, model.predict(X_test)))\n",
    "    \n",
    "    print(f'ElasticNetCV Statistics')\n",
    "    print(f'-----------------------')\n",
    "    print(f'Alpha Chosen: {model.alpha_:.6f}, L1 Ratio Chosen: {model.l1_ratio_}')\n",
    "    print(f'R2 Training Set: {train_r2:.6f}, R2 Testing Set: {test_r2:.6f}')\n",
    "    print(f'RMSE: {rmse:.2f}')\n",
    "    \n",
    "    return [train_r2, test_r2, rmse], model"
   ]
  },
  {
   "cell_type": "code",
   "execution_count": 15,
   "metadata": {
    "ExecuteTime": {
     "end_time": "2020-11-22T13:36:14.765191Z",
     "start_time": "2020-11-22T13:36:09.197501Z"
    },
    "scrolled": true
   },
   "outputs": [
    {
     "name": "stdout",
     "output_type": "stream",
     "text": [
      "ElasticNetCV Statistics\n",
      "-----------------------\n",
      "Alpha Chosen: 0.139871, L1 Ratio Chosen: 0.5\n",
      "R2 Training Set: 0.927158, R2 Testing Set: 0.905484\n",
      "RMSE: 24803.75\n"
     ]
    }
   ],
   "source": [
    "# initialize a list of alphas and l1 ratios to try\n",
    "# I am limiting the l1 ratios between 0.1 and 0.9 as I do not want the model to converge to either Lasso or Ridge model\n",
    "alpha_list = np.logspace(-2, 0, 200)\n",
    "l1_ratio_list = 0.5\n",
    "\n",
    "# run ElasticNetCV model with all features\n",
    "all_features_enet, all_features_enet_model = run_enetCV_model(alpha_list, X_train, X_test, l1_ratio_list)"
   ]
  },
  {
   "cell_type": "markdown",
   "metadata": {},
   "source": [
    "Results will be evaluated with the other models later."
   ]
  },
  {
   "cell_type": "markdown",
   "metadata": {
    "ExecuteTime": {
     "end_time": "2020-11-20T14:40:07.576999Z",
     "start_time": "2020-11-20T14:40:07.564008Z"
    }
   },
   "source": [
    "## Analysis of Results for Models with All Features"
   ]
  },
  {
   "cell_type": "code",
   "execution_count": 16,
   "metadata": {
    "ExecuteTime": {
     "end_time": "2020-11-22T13:36:14.812284Z",
     "start_time": "2020-11-22T13:36:14.767190Z"
    },
    "scrolled": true
   },
   "outputs": [
    {
     "data": {
      "text/html": [
       "<div>\n",
       "<style scoped>\n",
       "    .dataframe tbody tr th:only-of-type {\n",
       "        vertical-align: middle;\n",
       "    }\n",
       "\n",
       "    .dataframe tbody tr th {\n",
       "        vertical-align: top;\n",
       "    }\n",
       "\n",
       "    .dataframe thead th {\n",
       "        text-align: right;\n",
       "    }\n",
       "</style>\n",
       "<table border=\"1\" class=\"dataframe\">\n",
       "  <thead>\n",
       "    <tr style=\"text-align: right;\">\n",
       "      <th></th>\n",
       "      <th></th>\n",
       "      <th>R2 (Train)</th>\n",
       "      <th>R2 (Test)</th>\n",
       "      <th>RMSE (Test)</th>\n",
       "      <th>Improvement over Baseline (%)</th>\n",
       "    </tr>\n",
       "    <tr>\n",
       "      <th>Features Used</th>\n",
       "      <th>Model</th>\n",
       "      <th></th>\n",
       "      <th></th>\n",
       "      <th></th>\n",
       "      <th></th>\n",
       "    </tr>\n",
       "  </thead>\n",
       "  <tbody>\n",
       "    <tr>\n",
       "      <th rowspan=\"4\" valign=\"top\">All Features (191)</th>\n",
       "      <th>Linear Regression</th>\n",
       "      <td>0.928982</td>\n",
       "      <td>-1.250691e+26</td>\n",
       "      <td>9.022786e+17</td>\n",
       "      <td>-1.118218e+15</td>\n",
       "    </tr>\n",
       "    <tr>\n",
       "      <th>Lasso</th>\n",
       "      <td>0.9264148</td>\n",
       "      <td>0.9056436</td>\n",
       "      <td>24782.86</td>\n",
       "      <td>69.29</td>\n",
       "    </tr>\n",
       "    <tr>\n",
       "      <th>Ridge</th>\n",
       "      <td>0.9275574</td>\n",
       "      <td>0.905264</td>\n",
       "      <td>24832.66</td>\n",
       "      <td>69.22</td>\n",
       "    </tr>\n",
       "    <tr>\n",
       "      <th>ElasticNet</th>\n",
       "      <td>0.9271582</td>\n",
       "      <td>0.9054844</td>\n",
       "      <td>24803.75</td>\n",
       "      <td>69.26</td>\n",
       "    </tr>\n",
       "  </tbody>\n",
       "</table>\n",
       "</div>"
      ],
      "text/plain": [
       "                                      R2 (Train)     R2 (Test)  RMSE (Test)  \\\n",
       "Features Used      Model                                                      \n",
       "All Features (191) Linear Regression    0.928982 -1.250691e+26 9.022786e+17   \n",
       "                   Lasso               0.9264148     0.9056436     24782.86   \n",
       "                   Ridge               0.9275574      0.905264     24832.66   \n",
       "                   ElasticNet          0.9271582     0.9054844     24803.75   \n",
       "\n",
       "                                      Improvement over Baseline (%)  \n",
       "Features Used      Model                                             \n",
       "All Features (191) Linear Regression                  -1.118218e+15  \n",
       "                   Lasso                                      69.29  \n",
       "                   Ridge                                      69.22  \n",
       "                   ElasticNet                                 69.26  "
      ]
     },
     "execution_count": 16,
     "metadata": {},
     "output_type": "execute_result"
    }
   ],
   "source": [
    "# set option so that scientific notation is not used (harder to understand)\n",
    "pd.set_option('display.float_format', lambda x: '%.7g' % x)\n",
    "\n",
    "# combine all the r2 scores and rmse from different models into one dataframe\n",
    "all_features_results = pd.DataFrame({\n",
    "    'Linear Regression': all_features_lr,\n",
    "    'Lasso': all_features_lasso,\n",
    "    'Ridge': all_features_ridge,\n",
    "    'ElasticNet': all_features_enet\n",
    "}).T\n",
    "\n",
    "# reset the index of the datafram\n",
    "all_features_results.reset_index(inplace=True)\n",
    "\n",
    "# change the column names of the dataframe\n",
    "all_features_results.columns = ['Model', 'R2 (Train)', 'R2 (Test)', 'RMSE (Test)']\n",
    "\n",
    "# add in a column to show which features were used\n",
    "all_features_results['Features Used'] = 'All Features (191)'\n",
    "\n",
    "# add in a column to show the percentage improvement over the baseline rmse\n",
    "all_features_results['Improvement over Baseline (%)'] = round(((baseline_rmse - all_features_results['RMSE (Test)']) / baseline_rmse) * 100, 2)\n",
    "\n",
    "# display the dataframe with all the results for models with all features \n",
    "all_features_results.set_index(['Features Used', 'Model'])"
   ]
  },
  {
   "cell_type": "markdown",
   "metadata": {},
   "source": [
    "**Linear Regression Model**\n",
    "\n",
    "From the above results, it is obvious that LinearRegression performed the worst. In fact, it performed much worse than even the baseline model, with an astronomical RMSE figure, indicating that the errors are extremely huge. I will explore the coefficients of the Linear Regression model for better understanding."
   ]
  },
  {
   "cell_type": "code",
   "execution_count": 17,
   "metadata": {
    "ExecuteTime": {
     "end_time": "2020-11-22T13:36:15.653306Z",
     "start_time": "2020-11-22T13:36:14.814283Z"
    },
    "scrolled": false
   },
   "outputs": [
    {
     "data": {
      "image/png": "[encoded data removed]",
      "text/plain": [
       "<Figure size 720x720 with 2 Axes>"
      ]
     },
     "metadata": {},
     "output_type": "display_data"
    }
   ],
   "source": [
    "# create a dataframe of the coefficient of all from the Linear Regression model \n",
    "# sorted by the absolute values of the coefficients\n",
    "all_features_lr_coef_df = pd.DataFrame(list(all_features_lr_model.coef_), index = X_train.columns, columns = ['Coefficient'])\n",
    "all_features_lr_coef_df['abs_coef'] = abs(all_features_lr_coef_df['Coefficient'])\n",
    "all_features_lr_coef_df = all_features_lr_coef_df.sort_values('abs_coef', ascending = False)\n",
    "\n",
    "# create a heatmap of the top 30 coefficients\n",
    "plt.figure(figsize = (10, 10))\n",
    "sns.heatmap(all_features_lr_coef_df[['Coefficient']][:30], annot = True, fmt = '.4g', cmap = 'coolwarm')\n",
    "plt.title('Heatmap of Top 30 Features for Linear Regression Model', fontsize = 20)\n",
    "plt.show()"
   ]
  },
  {
   "cell_type": "markdown",
   "metadata": {},
   "source": [
    "The heatmap of the top 30 highest coefficient features from the Linear Regression model shows that the **coefficients are extremely overblown**. For example, from the heatmap, being in a Residential Low Density (ms_zoning_RL) increases the value of a property by 290,000 trillion dollars!\n",
    "\n",
    "This shows that the model is highly overfitted to the training dataset, evident from the good R2 score of 0.929 from the training dataset and the R2 score of -1.25 * 10^26 of the testing dataset. This shows that the **model is not useful in explaining the variance** of the target. This is not surprising as with the **huge amount of features** given to the model, the Linear Regression model (which has no regularization) will end up creating a model that is **overly complex and overfitted to the dataset** it is trained on."
   ]
  },
  {
   "cell_type": "code",
   "execution_count": 18,
   "metadata": {
    "ExecuteTime": {
     "end_time": "2020-11-22T13:36:15.669296Z",
     "start_time": "2020-11-22T13:36:15.655305Z"
    }
   },
   "outputs": [
    {
     "data": {
      "text/html": [
       "<div>\n",
       "<style scoped>\n",
       "    .dataframe tbody tr th:only-of-type {\n",
       "        vertical-align: middle;\n",
       "    }\n",
       "\n",
       "    .dataframe tbody tr th {\n",
       "        vertical-align: top;\n",
       "    }\n",
       "\n",
       "    .dataframe thead th {\n",
       "        text-align: right;\n",
       "    }\n",
       "</style>\n",
       "<table border=\"1\" class=\"dataframe\">\n",
       "  <thead>\n",
       "    <tr style=\"text-align: right;\">\n",
       "      <th></th>\n",
       "      <th></th>\n",
       "      <th>R2 (Train)</th>\n",
       "      <th>R2 (Test)</th>\n",
       "      <th>RMSE (Test)</th>\n",
       "      <th>Improvement over Baseline (%)</th>\n",
       "    </tr>\n",
       "    <tr>\n",
       "      <th>Features Used</th>\n",
       "      <th>Model</th>\n",
       "      <th></th>\n",
       "      <th></th>\n",
       "      <th></th>\n",
       "      <th></th>\n",
       "    </tr>\n",
       "  </thead>\n",
       "  <tbody>\n",
       "    <tr>\n",
       "      <th rowspan=\"4\" valign=\"top\">All Features (191)</th>\n",
       "      <th>Linear Regression</th>\n",
       "      <td>0.928982</td>\n",
       "      <td>-1.250691e+26</td>\n",
       "      <td>9.022786e+17</td>\n",
       "      <td>-1.118218e+15</td>\n",
       "    </tr>\n",
       "    <tr>\n",
       "      <th>Lasso</th>\n",
       "      <td>0.9264148</td>\n",
       "      <td>0.9056436</td>\n",
       "      <td>24782.86</td>\n",
       "      <td>69.29</td>\n",
       "    </tr>\n",
       "    <tr>\n",
       "      <th>Ridge</th>\n",
       "      <td>0.9275574</td>\n",
       "      <td>0.905264</td>\n",
       "      <td>24832.66</td>\n",
       "      <td>69.22</td>\n",
       "    </tr>\n",
       "    <tr>\n",
       "      <th>ElasticNet</th>\n",
       "      <td>0.9271582</td>\n",
       "      <td>0.9054844</td>\n",
       "      <td>24803.75</td>\n",
       "      <td>69.26</td>\n",
       "    </tr>\n",
       "  </tbody>\n",
       "</table>\n",
       "</div>"
      ],
      "text/plain": [
       "                                      R2 (Train)     R2 (Test)  RMSE (Test)  \\\n",
       "Features Used      Model                                                      \n",
       "All Features (191) Linear Regression    0.928982 -1.250691e+26 9.022786e+17   \n",
       "                   Lasso               0.9264148     0.9056436     24782.86   \n",
       "                   Ridge               0.9275574      0.905264     24832.66   \n",
       "                   ElasticNet          0.9271582     0.9054844     24803.75   \n",
       "\n",
       "                                      Improvement over Baseline (%)  \n",
       "Features Used      Model                                             \n",
       "All Features (191) Linear Regression                  -1.118218e+15  \n",
       "                   Lasso                                      69.29  \n",
       "                   Ridge                                      69.22  \n",
       "                   ElasticNet                                 69.26  "
      ]
     },
     "execution_count": 18,
     "metadata": {},
     "output_type": "execute_result"
    }
   ],
   "source": [
    "# display the dataframe with all the results for models with all features \n",
    "all_features_results.set_index(['Features Used', 'Model'])"
   ]
  },
  {
   "cell_type": "markdown",
   "metadata": {},
   "source": [
    "**Models with Regularization**\n",
    "\n",
    "For the three models with regularization - Lasso, Ridge and ElasticNet. All three models performed much better than the baseline score. All three models saw an **improvement in RMSE over the baseline RMSE of almost 70%** and show evidence of **no overfitting** as the R2 score using the test set are all above 0.905.\n",
    "\n",
    "1. Lasso - The Lasso model performed the best among all three models. This is perhaps because there are many redundant features in the 191 features chosen and the Lasso model is able to set coefficient of redundant features to 0, totally removing their effects.\n",
    "2. Ridge - The Ridge model performed the worst among all three models, that said, their performances are very similar. The reason why Ridge did not perform as well as Lasso could be due to the fact that the Ridge model is only able to penalize the coefficient to be low, but never reaching 0. Hence, allowing some additional errors to arise.\n",
    "3. ElasticNet - Expectedly, the ElasticNet model performed between the Lasso and Ridge model. This should be because the model carries out both L1 and L2 regularization, hence, it performs slightly better than the pure Ridge model as it can set the coefficient of some features to 0, while performing slightly worse than the pure Lasso model as it will tend to not set some coefficient to 0 when it could be 0.\n",
    "\n",
    "Overall, **all the models with regularization performed well**, with the **Lasso model performing slightly better** than the other two models."
   ]
  },
  {
   "cell_type": "markdown",
   "metadata": {},
   "source": [
    "# Feature Selection"
   ]
  },
  {
   "cell_type": "markdown",
   "metadata": {},
   "source": [
    "From the above, we can see that if we pass in all the features, the model can perform quite well as long as regularization is applied to prevent overfitting.\n",
    "\n",
    "Practically speaking, collecting data can be a difficult and costly process. Reducing the number of features to be used in the models not only help to prevent overfitting but will also reduce the efforts and budget needed for data collection.\n",
    "\n",
    "In this section, I will choose 30 features to be used to generate a model. These 30 features should be the best predictor of saleprice."
   ]
  },
  {
   "cell_type": "markdown",
   "metadata": {},
   "source": [
    "## Ranking Features Using LassoCV "
   ]
  },
  {
   "cell_type": "code",
   "execution_count": 19,
   "metadata": {
    "ExecuteTime": {
     "end_time": "2020-11-22T13:36:15.684287Z",
     "start_time": "2020-11-22T13:36:15.671296Z"
    },
    "scrolled": true
   },
   "outputs": [],
   "source": [
    "# create a dataframe with the feature names and the coefficient of each features given by the lasso model\n",
    "lasso_ranking = pd.DataFrame(list(zip(X_train.columns, all_features_lasso_model.coef_)), \n",
    "                             columns = ['features', 'lasso_coef'])\n",
    "\n",
    "# create a new column that takes the absolute of the coefficient of features from the lasso model\n",
    "# as having a high negative coefficient means that feature is also an excellent predictor of the target\n",
    "lasso_ranking['abs_lasso_coef'] = abs(lasso_ranking['lasso_coef'])\n",
    "\n",
    "# sort the dataframe based on the absolute coefficient of features\n",
    "lasso_ranking = lasso_ranking.sort_values('abs_lasso_coef', ascending=False).reset_index(drop=True)\n",
    "\n",
    "# create a list of the top 30 features\n",
    "top_30_features_lasso = lasso_ranking[:30]['features'].to_list()"
   ]
  },
  {
   "cell_type": "markdown",
   "metadata": {},
   "source": [
    "## Ranking Features Using RidgeCV "
   ]
  },
  {
   "cell_type": "code",
   "execution_count": 20,
   "metadata": {
    "ExecuteTime": {
     "end_time": "2020-11-22T13:36:15.699277Z",
     "start_time": "2020-11-22T13:36:15.686286Z"
    },
    "scrolled": true
   },
   "outputs": [],
   "source": [
    "# create a dataframe with the feature names and the coefficient of each features given by the ridge model\n",
    "ridge_ranking = pd.DataFrame(list(zip(X_train.columns, all_features_ridge_model.coef_)), \n",
    "                             columns = ['features', 'ridge_coef'])\n",
    "\n",
    "# create a new column that takes the absolute of the coefficient of features from the ridge model\n",
    "ridge_ranking['abs_ridge_coef'] = abs(ridge_ranking['ridge_coef'])\n",
    "\n",
    "# sort the dataframe based on the absolute coefficient of features\n",
    "ridge_ranking = ridge_ranking.sort_values('abs_ridge_coef', ascending=False).reset_index(drop=True)\n",
    "\n",
    "# create a list of the top 30 features\n",
    "top_30_features_ridge = ridge_ranking[:30]['features'].to_list()"
   ]
  },
  {
   "cell_type": "markdown",
   "metadata": {},
   "source": [
    "## Determining Exact Features to Use"
   ]
  },
  {
   "cell_type": "markdown",
   "metadata": {},
   "source": [
    "With the top 30 features chosen by the LassoCV and RidgeCV model, I can cross check which features are in both lists, these features should be very impactful in understand the target. \n",
    "\n",
    "I will also explore the features that only appear in one of the lists and make further selection from these."
   ]
  },
  {
   "cell_type": "code",
   "execution_count": 21,
   "metadata": {
    "ExecuteTime": {
     "end_time": "2020-11-22T13:36:15.714267Z",
     "start_time": "2020-11-22T13:36:15.701276Z"
    }
   },
   "outputs": [],
   "source": [
    "# initialize 3 empty list\n",
    "\n",
    "# one list for features that are in both the top 30 lists from both LassoCV and RidgeCV\n",
    "top_30_lasso_and_ridge = []\n",
    "\n",
    "# one list for features that are only in the top 30 list from LassoCV\n",
    "top_30_lasso_not_ridge = []\n",
    "\n",
    "# one list for features that are only in the top 30 list from RidgeCV\n",
    "top_30_ridge_not_lasso = []\n",
    "\n",
    "\n",
    "# append features that are in both lists into the top_30_lasso_and_ridge list\n",
    "for feature in top_30_features_lasso:\n",
    "    if feature in top_30_features_ridge:\n",
    "        top_30_lasso_and_ridge.append(feature)\n",
    "        \n",
    "# append features that are only in the top 30 list from LassoCV into the top_30_lasso_not_ridge list\n",
    "for feature in top_30_features_lasso:\n",
    "    if feature not in top_30_features_ridge:\n",
    "        top_30_lasso_not_ridge.append(feature)\n",
    "        \n",
    "# append features that are only in the top 30 list from RidgeCV into the top_30_ridge_not_lasso list\n",
    "for feature in top_30_features_ridge:\n",
    "    if feature not in top_30_features_lasso:\n",
    "        top_30_ridge_not_lasso.append(feature)"
   ]
  },
  {
   "cell_type": "markdown",
   "metadata": {},
   "source": [
    "As I will be using a linear regression model, **features with high correlation with the target** should be more useful in predicting the target as compared to one with lower correlation figure. Hence, I will look at the correlation between the features and the targets and pick the features with the highest correlations."
   ]
  },
  {
   "cell_type": "code",
   "execution_count": 22,
   "metadata": {
    "ExecuteTime": {
     "end_time": "2020-11-22T13:36:16.062980Z",
     "start_time": "2020-11-22T13:36:15.718266Z"
    }
   },
   "outputs": [
    {
     "data": {
      "image/png": "[encoded data removed]",
      "text/plain": [
       "<Figure size 576x360 with 2 Axes>"
      ]
     },
     "metadata": {},
     "output_type": "display_data"
    }
   ],
   "source": [
    "# create a new dataframe with the features that are ONLY in the top 30 features from LassoCV \n",
    "# and concat it to the target (saleprice) to generate a correlation table\n",
    "top_30_lasso_df = pd.concat([X_train[top_30_lasso_not_ridge], y_train], axis = 1)\n",
    "\n",
    "# create a heatmap of the correlation of the features with saleprice\n",
    "plt.figure(figsize = (8, 5))\n",
    "sns.heatmap(top_30_lasso_df.corr()[['saleprice']].sort_values('saleprice', ascending=False)[1:],  cmap = 'coolwarm', annot = True, vmin = -.5, vmax = .5)\n",
    "plt.title('Heatmap of Correlation of Features with Saleprice \\n(Features from LassoCV)', fontsize = 15)\n",
    "plt.show()"
   ]
  },
  {
   "cell_type": "code",
   "execution_count": 23,
   "metadata": {
    "ExecuteTime": {
     "end_time": "2020-11-22T13:36:16.361129Z",
     "start_time": "2020-11-22T13:36:16.065977Z"
    }
   },
   "outputs": [
    {
     "data": {
      "image/png": "[encoded data removed]",
      "text/plain": [
       "<Figure size 576x360 with 2 Axes>"
      ]
     },
     "metadata": {},
     "output_type": "display_data"
    }
   ],
   "source": [
    "# create a new dataframe with the features that are ONLY in the top 30 features from LassoCV \n",
    "# and concat it to the target (saleprice) to generate a correlation table\n",
    "top_30_ridge_df = pd.concat([X_train[top_30_ridge_not_lasso], y_train], axis = 1)\n",
    "\n",
    "# create a heatmap of the correlation of the features with saleprice\n",
    "plt.figure(figsize = (8, 5))\n",
    "sns.heatmap(top_30_ridge_df.corr()[['saleprice']].sort_values('saleprice', ascending=False)[1:],  cmap = 'coolwarm', annot = True, vmin = -.5, vmax = .5)\n",
    "plt.title('Heatmap of Correlation of Features with Saleprice \\n(Features from RidgeCV)', fontsize = 15)\n",
    "plt.show()"
   ]
  },
  {
   "cell_type": "markdown",
   "metadata": {},
   "source": [
    "### Adding Features with High Correlation with Saleprice\n",
    "From the two plot above, the features mas_vnr_type_BrkFace, neighborhood_Somerst, land_contour_HLS, roof_style_Hip, fireplaces, neighborhood_NAmes, neighborhood_OldTown, garage_type_none, lot_frontage and neighborhood_Edwards are chosen as these features are in the **top 30 features of either the LassoCV or RidgeCV model** and they also have **higher correlation with saleprice as compared to other features available** (absolute correlation > 0.2).\n",
    "\n",
    "These features will be combined with the features that were previously in BOTH top 30 features list of LassoCV and RidgeCV to make a list of selected features."
   ]
  },
  {
   "cell_type": "code",
   "execution_count": 24,
   "metadata": {
    "ExecuteTime": {
     "end_time": "2020-11-22T13:36:16.376862Z",
     "start_time": "2020-11-22T13:36:16.363128Z"
    }
   },
   "outputs": [],
   "source": [
    "# create a new list, initialize it with the features that were previously in both top 30 features list\n",
    "selected_features = top_30_lasso_and_ridge.copy()\n",
    "\n",
    "# append the features we have identified above into the selected features list\n",
    "for feature in 'fireplaces, mas_vnr_type_BrkFace, roof_style_Hip, lot_frontage, garage_type_none, neighborhood_OldTown'.replace(' ', '').split(','):\n",
    "    selected_features.append(feature)"
   ]
  },
  {
   "cell_type": "code",
   "execution_count": 25,
   "metadata": {
    "ExecuteTime": {
     "end_time": "2020-11-22T13:36:17.029795Z",
     "start_time": "2020-11-22T13:36:16.378858Z"
    }
   },
   "outputs": [
    {
     "data": {
      "image/png": "[encoded data removed]",
      "text/plain": [
       "<Figure size 576x792 with 2 Axes>"
      ]
     },
     "metadata": {},
     "output_type": "display_data"
    }
   ],
   "source": [
    "# create a new dataframe with the selected features and concat it to the target (saleprice) to generate a correlation table\n",
    "selected_features_df = pd.concat([X_train[selected_features], y_train], axis = 1)\n",
    "\n",
    "# create a heatmap of the correlation of the features with saleprice\n",
    "plt.figure(figsize = (8, 11))\n",
    "sns.heatmap(selected_features_df.corr()[['saleprice']].sort_values('saleprice', ascending=False)[1:],  cmap = 'coolwarm', annot = True, vmin = -.5, vmax = .5)\n",
    "plt.title('Heatmap of Correlation of Features with Saleprice', fontsize = 15)\n",
    "plt.show()"
   ]
  },
  {
   "cell_type": "markdown",
   "metadata": {},
   "source": [
    "### Dropping Features with Low Correlation with Saleprice\n",
    "It is surprising to find 3 features with **very low correlation to saleprice** as these features were features with 30 highest coefficient from both LassoCV and RidgeCV. These features are neighborhood_GrnHill, exterior_1st_BrkFace and roof_style_Mansard. \n",
    "\n",
    "However, due to the low correlation with saleprice, these features will be dropped from the list of selected features."
   ]
  },
  {
   "cell_type": "code",
   "execution_count": 26,
   "metadata": {
    "ExecuteTime": {
     "end_time": "2020-11-22T13:36:17.045800Z",
     "start_time": "2020-11-22T13:36:17.031797Z"
    }
   },
   "outputs": [],
   "source": [
    "# dropping the features identified above\n",
    "selected_features.remove('neighborhood_GrnHill')\n",
    "selected_features.remove('exterior_1st_BrkFace')\n",
    "selected_features.remove('roof_style_Mansard')"
   ]
  },
  {
   "cell_type": "code",
   "execution_count": 27,
   "metadata": {
    "ExecuteTime": {
     "end_time": "2020-11-22T13:36:17.061075Z",
     "start_time": "2020-11-22T13:36:17.047796Z"
    }
   },
   "outputs": [
    {
     "data": {
      "text/plain": [
       "['gr_liv_area',\n",
       " 'overall_qual',\n",
       " 'bsmtfin_sf_1',\n",
       " 'neighborhood_NridgHt',\n",
       " 'total_bsmt_sf',\n",
       " 'mas_vnr_area',\n",
       " 'year_built_x_year_remod',\n",
       " 'exter_qual',\n",
       " 'garage_area',\n",
       " 'bsmt_exposure',\n",
       " 'neighborhood_StoneBr',\n",
       " 'overall_cond',\n",
       " 'kitchen_qual',\n",
       " 'lot_area',\n",
       " 'sale_type_New',\n",
       " 'neighborhood_NoRidge',\n",
       " 'bsmt_qual',\n",
       " 'bsmt_cond',\n",
       " 'fireplaces',\n",
       " 'mas_vnr_type_BrkFace',\n",
       " 'roof_style_Hip',\n",
       " 'lot_frontage',\n",
       " 'garage_type_none',\n",
       " 'neighborhood_OldTown']"
      ]
     },
     "execution_count": 27,
     "metadata": {},
     "output_type": "execute_result"
    }
   ],
   "source": [
    "selected_features"
   ]
  },
  {
   "cell_type": "code",
   "execution_count": 28,
   "metadata": {
    "ExecuteTime": {
     "end_time": "2020-11-22T13:36:17.076993Z",
     "start_time": "2020-11-22T13:36:17.063071Z"
    }
   },
   "outputs": [
    {
     "name": "stdout",
     "output_type": "stream",
     "text": [
      "Out of 191 features, 24 features are selected\n"
     ]
    }
   ],
   "source": [
    "# number of features selected\n",
    "print(f'Out of 191 features, {len(selected_features)} features are selected')"
   ]
  },
  {
   "cell_type": "markdown",
   "metadata": {},
   "source": [
    "# Model Testing with Selected Features"
   ]
  },
  {
   "cell_type": "markdown",
   "metadata": {},
   "source": [
    "## Linear Regression Model"
   ]
  },
  {
   "cell_type": "code",
   "execution_count": 29,
   "metadata": {
    "ExecuteTime": {
     "end_time": "2020-11-22T13:36:17.107976Z",
     "start_time": "2020-11-22T13:36:17.078995Z"
    },
    "scrolled": true
   },
   "outputs": [
    {
     "name": "stdout",
     "output_type": "stream",
     "text": [
      "Linear Regression Statistics\n",
      "----------------------------\n",
      "R2 Training Set: 0.904043, R2 Testing Set: 0.900030\n",
      "RMSE: 25509.37\n"
     ]
    }
   ],
   "source": [
    "# run LinearRegression model with the selected features\n",
    "selected_features_lr, selected_features_lr_model = run_lr_model(X_train[selected_features], X_test[selected_features])"
   ]
  },
  {
   "cell_type": "markdown",
   "metadata": {},
   "source": [
    "Results will be evaluated with the other models later."
   ]
  },
  {
   "cell_type": "markdown",
   "metadata": {},
   "source": [
    "## Lasso Model"
   ]
  },
  {
   "cell_type": "code",
   "execution_count": 30,
   "metadata": {
    "ExecuteTime": {
     "end_time": "2020-11-22T13:36:17.817539Z",
     "start_time": "2020-11-22T13:36:17.110975Z"
    },
    "scrolled": true
   },
   "outputs": [
    {
     "name": "stdout",
     "output_type": "stream",
     "text": [
      "LassoCV Statistics\n",
      "------------------\n",
      "Alpha Chosen: 0.000001\n",
      "R2 Training Set: 0.904043, R2 Testing Set: 0.900030\n",
      "RMSE: 25509.37\n"
     ]
    }
   ],
   "source": [
    "# initialize a list of alphas to try\n",
    "alpha_list = np.logspace(-6, 3, 800)\n",
    "\n",
    "# run LassoCV model with selected features\n",
    "selected_features_lasso, selected_features_lasso_model = run_lassoCV_model(alpha_list, X_train[selected_features], X_test[selected_features])"
   ]
  },
  {
   "cell_type": "markdown",
   "metadata": {},
   "source": [
    "Results will be evaluated with the other models later."
   ]
  },
  {
   "cell_type": "markdown",
   "metadata": {},
   "source": [
    "## Ridge Model"
   ]
  },
  {
   "cell_type": "code",
   "execution_count": 31,
   "metadata": {
    "ExecuteTime": {
     "end_time": "2020-11-22T13:36:18.024411Z",
     "start_time": "2020-11-22T13:36:17.820537Z"
    },
    "scrolled": true
   },
   "outputs": [
    {
     "name": "stdout",
     "output_type": "stream",
     "text": [
      "RidgeCV Statistics\n",
      "------------------\n",
      "Alpha Chosen: 34.067584\n",
      "R2 Training Set: 0.903969, R2 Testing Set: 0.900032\n",
      "RMSE: 25509.12\n"
     ]
    }
   ],
   "source": [
    "# initialize a list of alphas to try\n",
    "alpha_list = np.linspace(20, 60, 800)\n",
    "\n",
    "# run RidgeCV model with selected features\n",
    "selected_features_ridge, selected_features_ridge_model = run_ridgeCV_model(alpha_list, X_train[selected_features], X_test[selected_features])"
   ]
  },
  {
   "cell_type": "markdown",
   "metadata": {},
   "source": [
    "Results will be evaluated with the other models later."
   ]
  },
  {
   "cell_type": "markdown",
   "metadata": {},
   "source": [
    "## ElasticNet Model"
   ]
  },
  {
   "cell_type": "code",
   "execution_count": 32,
   "metadata": {
    "ExecuteTime": {
     "end_time": "2020-11-22T13:36:18.263268Z",
     "start_time": "2020-11-22T13:36:18.026410Z"
    },
    "scrolled": false
   },
   "outputs": [
    {
     "name": "stdout",
     "output_type": "stream",
     "text": [
      "ElasticNetCV Statistics\n",
      "-----------------------\n",
      "Alpha Chosen: 0.052311, L1 Ratio Chosen: 0.5\n",
      "R2 Training Set: 0.903928, R2 Testing Set: 0.900009\n",
      "RMSE: 25512.10\n"
     ]
    }
   ],
   "source": [
    "# initialize a list of alphas and l1 ratios to try\n",
    "alpha_list = np.logspace(-3, 3, 200)\n",
    "l1_ratio_list = 0.5\n",
    "\n",
    "# run ElasticNetCV model with selected features\n",
    "selected_features_enet, selected_features_enet_model = run_enetCV_model(alpha_list, X_train[selected_features], X_test[selected_features], l1_ratio_list)"
   ]
  },
  {
   "cell_type": "markdown",
   "metadata": {},
   "source": [
    "Results will be evaluated with the other models later."
   ]
  },
  {
   "cell_type": "markdown",
   "metadata": {},
   "source": [
    "## Analysis of Results for Models with Selected Features"
   ]
  },
  {
   "cell_type": "code",
   "execution_count": 33,
   "metadata": {
    "ExecuteTime": {
     "end_time": "2020-11-22T13:36:18.295248Z",
     "start_time": "2020-11-22T13:36:18.265268Z"
    },
    "scrolled": true
   },
   "outputs": [
    {
     "data": {
      "text/html": [
       "<div>\n",
       "<style scoped>\n",
       "    .dataframe tbody tr th:only-of-type {\n",
       "        vertical-align: middle;\n",
       "    }\n",
       "\n",
       "    .dataframe tbody tr th {\n",
       "        vertical-align: top;\n",
       "    }\n",
       "\n",
       "    .dataframe thead th {\n",
       "        text-align: right;\n",
       "    }\n",
       "</style>\n",
       "<table border=\"1\" class=\"dataframe\">\n",
       "  <thead>\n",
       "    <tr style=\"text-align: right;\">\n",
       "      <th></th>\n",
       "      <th></th>\n",
       "      <th>R2 (Train)</th>\n",
       "      <th>R2 (Test)</th>\n",
       "      <th>RMSE (Test)</th>\n",
       "      <th>Improvement over Baseline (%)</th>\n",
       "    </tr>\n",
       "    <tr>\n",
       "      <th>Features Used</th>\n",
       "      <th>Model</th>\n",
       "      <th></th>\n",
       "      <th></th>\n",
       "      <th></th>\n",
       "      <th></th>\n",
       "    </tr>\n",
       "  </thead>\n",
       "  <tbody>\n",
       "    <tr>\n",
       "      <th rowspan=\"4\" valign=\"top\">All Features (191)</th>\n",
       "      <th>Linear Regression</th>\n",
       "      <td>0.928982</td>\n",
       "      <td>-1.250691e+26</td>\n",
       "      <td>9.022786e+17</td>\n",
       "      <td>-1.118218e+15</td>\n",
       "    </tr>\n",
       "    <tr>\n",
       "      <th>Lasso</th>\n",
       "      <td>0.9264148</td>\n",
       "      <td>0.9056436</td>\n",
       "      <td>24782.86</td>\n",
       "      <td>69.29</td>\n",
       "    </tr>\n",
       "    <tr>\n",
       "      <th>Ridge</th>\n",
       "      <td>0.9275574</td>\n",
       "      <td>0.905264</td>\n",
       "      <td>24832.66</td>\n",
       "      <td>69.22</td>\n",
       "    </tr>\n",
       "    <tr>\n",
       "      <th>ElasticNet</th>\n",
       "      <td>0.9271582</td>\n",
       "      <td>0.9054844</td>\n",
       "      <td>24803.75</td>\n",
       "      <td>69.26</td>\n",
       "    </tr>\n",
       "    <tr>\n",
       "      <th rowspan=\"4\" valign=\"top\">Selected Features (24)</th>\n",
       "      <th>Linear Regression</th>\n",
       "      <td>0.9040428</td>\n",
       "      <td>0.9000304</td>\n",
       "      <td>25509.37</td>\n",
       "      <td>68.39</td>\n",
       "    </tr>\n",
       "    <tr>\n",
       "      <th>Lasso</th>\n",
       "      <td>0.9040428</td>\n",
       "      <td>0.9000304</td>\n",
       "      <td>25509.37</td>\n",
       "      <td>68.39</td>\n",
       "    </tr>\n",
       "    <tr>\n",
       "      <th>Ridge</th>\n",
       "      <td>0.9039686</td>\n",
       "      <td>0.9000323</td>\n",
       "      <td>25509.12</td>\n",
       "      <td>68.39</td>\n",
       "    </tr>\n",
       "    <tr>\n",
       "      <th>ElasticNet</th>\n",
       "      <td>0.9039284</td>\n",
       "      <td>0.9000089</td>\n",
       "      <td>25512.1</td>\n",
       "      <td>68.38</td>\n",
       "    </tr>\n",
       "  </tbody>\n",
       "</table>\n",
       "</div>"
      ],
      "text/plain": [
       "                                          R2 (Train)     R2 (Test)  \\\n",
       "Features Used          Model                                         \n",
       "All Features (191)     Linear Regression    0.928982 -1.250691e+26   \n",
       "                       Lasso               0.9264148     0.9056436   \n",
       "                       Ridge               0.9275574      0.905264   \n",
       "                       ElasticNet          0.9271582     0.9054844   \n",
       "Selected Features (24) Linear Regression   0.9040428     0.9000304   \n",
       "                       Lasso               0.9040428     0.9000304   \n",
       "                       Ridge               0.9039686     0.9000323   \n",
       "                       ElasticNet          0.9039284     0.9000089   \n",
       "\n",
       "                                          RMSE (Test)  \\\n",
       "Features Used          Model                            \n",
       "All Features (191)     Linear Regression 9.022786e+17   \n",
       "                       Lasso                 24782.86   \n",
       "                       Ridge                 24832.66   \n",
       "                       ElasticNet            24803.75   \n",
       "Selected Features (24) Linear Regression     25509.37   \n",
       "                       Lasso                 25509.37   \n",
       "                       Ridge                 25509.12   \n",
       "                       ElasticNet             25512.1   \n",
       "\n",
       "                                          Improvement over Baseline (%)  \n",
       "Features Used          Model                                             \n",
       "All Features (191)     Linear Regression                  -1.118218e+15  \n",
       "                       Lasso                                      69.29  \n",
       "                       Ridge                                      69.22  \n",
       "                       ElasticNet                                 69.26  \n",
       "Selected Features (24) Linear Regression                          68.39  \n",
       "                       Lasso                                      68.39  \n",
       "                       Ridge                                      68.39  \n",
       "                       ElasticNet                                 68.38  "
      ]
     },
     "execution_count": 33,
     "metadata": {},
     "output_type": "execute_result"
    }
   ],
   "source": [
    "# set option so that scientific notation is not used (harder to understand)\n",
    "pd.set_option('display.float_format', lambda x: '%.7g' % x)\n",
    "\n",
    "# combine all the r2 scores and rmse from different models into one dataframe\n",
    "selected_features_results = pd.DataFrame({\n",
    "    'Linear Regression': selected_features_lr,\n",
    "    'Lasso': selected_features_lasso,\n",
    "    'Ridge': selected_features_ridge,\n",
    "    'ElasticNet': selected_features_enet\n",
    "}).T\n",
    "\n",
    "# reset the index of the datafram\n",
    "selected_features_results.reset_index(inplace=True)\n",
    "\n",
    "# change the column names of the dataframe\n",
    "selected_features_results.columns = ['Model', 'R2 (Train)', 'R2 (Test)', 'RMSE (Test)']\n",
    "\n",
    "# add in a column to show which features were used\n",
    "selected_features_results['Features Used'] = 'Selected Features (24)'\n",
    "\n",
    "# add in a column to show the percentage improvement over the baseline rmse\n",
    "selected_features_results['Improvement over Baseline (%)'] = round(((baseline_rmse - selected_features_results['RMSE (Test)']) / baseline_rmse) * 100, 2)\n",
    "\n",
    "# combine the results from both models with all features and selected features\n",
    "all_results = pd.concat([all_features_results, selected_features_results])\n",
    "\n",
    "# display the dataframe with all the results for models with all features \n",
    "all_results.set_index(['Features Used', 'Model'])"
   ]
  },
  {
   "cell_type": "markdown",
   "metadata": {},
   "source": [
    "From the table above, with the selected features, **all 4 linear regression models** - Linear Regression, Lasso, Ridge and ElasticNet, **performed almost equally well**, having:\n",
    "1. R2 score on training dataset of around 0.904\n",
    "2. R2 score on testing dataset of around 0.900\n",
    "3. RMSE score of around 25509 (with ElasticNet doing the worst at 25511)\n",
    "\n",
    "\\\n",
    "**Observations**\n",
    "--------------------------\n",
    "\n",
    "**1. No Overfitting**\n",
    "\n",
    "The similarly high **R2 scores of around 0.9 achieved on both the training dataset** (which itself is a cross-validated score) **and the testing dataset** (which is an unseen dataset for the model) shows that the model is **generalizing very well to the data and is not overfitting**.\n",
    "\n",
    "\n",
    "\\\n",
    "**2. Selected Features are Good Predictors**\n",
    "\n",
    "The **RMSE achieved by the Linear Regression model as low as RMSE achieved by models with regularization** and has improved drastically from the RMSE achieved when all features was used. This indicates that:\n",
    "1. There is **no overfitting due to having too many features**.\n",
    "2. **All selected features are important to predicting the saleprice**, evident from the similar RMSE with models with regularization. If any feature is redundant, Ridge or Lasso would potentially have a lower RMSE than that achieved by Linear Regression. This is further supported by optimal alpha chosen by the LassoCV model to be 0.000001 which is the lowerbound of the list of alphas given, suggesting that there is perhaps no need for L2 regularization.\n",
    "\n",
    "\n",
    "\\\n",
    "**3. Minimal Decrease in Performance with Selected Features**\n",
    "\n",
    "With the 24 selected features, the best model (Ridge) achieved a 68.39% improvement against the baseline RMSE. On the other hand, with all 191 features, the best model (Lasso) achieved a 69.22% improvement against the baseline RMSE. **Dropping 167 features resulted in only less than 1% decrease in the improvement against the baseline RMSE**. \n",
    "\n",
    "For the purpose of this project, the **1% increase in improvement over the baseline RMSE is not worth the effort and cost needed to collected data for 167 more features**. Hence, the best model will be chosen from the models with the 24 selected features.\n",
    "\n",
    "\\\n",
    "**Model Chosen as Production Model**\n",
    "-----------------------\n",
    "\n",
    "The **Ridge model** will be chosen as the production model. The reason for this choice is that:\n",
    "1. It has **slightly higher R2 score** on the test dataset - Shows that this model generalizes slightly better\n",
    "2. It has **slightly higher RMSE score** - Shows that performs slightly better"
   ]
  },
  {
   "cell_type": "markdown",
   "metadata": {},
   "source": [
    "# Production Model"
   ]
  },
  {
   "cell_type": "markdown",
   "metadata": {},
   "source": [
    "For the production model, instead of the datasets that have been split using train_test_split. I will instead use the **full dataset** (X and y instead X_train and y_train) to train the model. This will help to ensure that the model sees all the available data, instead of 80% of the data, and generalizes better to new data."
   ]
  },
  {
   "cell_type": "code",
   "execution_count": 34,
   "metadata": {
    "ExecuteTime": {
     "end_time": "2020-11-22T13:36:18.343224Z",
     "start_time": "2020-11-22T13:36:18.297247Z"
    }
   },
   "outputs": [
    {
     "name": "stdout",
     "output_type": "stream",
     "text": [
      "Production Model Statistics\n",
      "---------------------------\n",
      "R2 Score: 0.903820, Cross Validated RMSE: 25130.57\n"
     ]
    }
   ],
   "source": [
    "# initializez a Ridge model with optimal alpha as found from RidgeCV above\n",
    "ridge_model = Ridge(alpha = 34.067584)\n",
    "\n",
    "# fit the ridge model to the entire train dataset\n",
    "ridge_model = ridge_model.fit(X[selected_features], y)\n",
    "\n",
    "# find the R2 score and the cross validated RMSE of the model\n",
    "ridge_model_r2 = ridge_model.score(X[selected_features], y)\n",
    "ridge_model_cv_rmse = -cross_val_score(ridge_model, X[selected_features], y, scoring = 'neg_root_mean_squared_error', cv=5)\n",
    "\n",
    "# print out the R2 score and RMSE found\n",
    "print(f'Production Model Statistics')\n",
    "print(f'---------------------------')\n",
    "print(f'R2 Score: {ridge_model_r2:.6f}, Cross Validated RMSE: {ridge_model_cv_rmse.mean():.2f}')"
   ]
  },
  {
   "cell_type": "code",
   "execution_count": 35,
   "metadata": {
    "ExecuteTime": {
     "end_time": "2020-11-22T13:36:18.912354Z",
     "start_time": "2020-11-22T13:36:18.345223Z"
    },
    "scrolled": false
   },
   "outputs": [
    {
     "data": {
      "image/png": "[encoded data removed]",
      "text/plain": [
       "<Figure size 720x720 with 2 Axes>"
      ]
     },
     "metadata": {},
     "output_type": "display_data"
    }
   ],
   "source": [
    "# create a dataframe of the selected features and their respective coefficients from the production ridge model (sorted)\n",
    "model_feature_coef = pd.DataFrame(list(ridge_model.coef_), index = selected_features, columns = ['Coefficient'])\n",
    "model_feature_coef = model_feature_coef.sort_values('Coefficient', ascending = False)\n",
    "\n",
    "# create a heatmap of the coefficients of the selected features and their respective coefficient\n",
    "plt.figure(figsize = (10, 10))\n",
    "sns.heatmap(model_feature_coef[['Coefficient']], annot = True, fmt = '.0f', cmap = 'coolwarm')\n",
    "plt.title('Heatmap of Coefficients of Selected Features', fontsize = 20)\n",
    "plt.show()"
   ]
  },
  {
   "cell_type": "markdown",
   "metadata": {},
   "source": [
    "# Housing Insights and Conclusion\n",
    "With the model generated, the rough range of a property can be predicted as a reference to ensure that a potential home buyer or home seller is not tricked into buying or selling at inappropriate prices. The predicted saleprice can also be used as a basis for the start of negotiation and bargaining of the prices, however, user should note that the generalized error is around 20,000 dollars, so do allow some room for negotiation.\n",
    "\n",
    "From the above, we can also learn that the most important features to determining the saleprice of a property are: **area (in square feet), quality and condition of the property, when the property was built/remod (if applicable), and the neighborhood** of the property. Other observations:\n",
    "1. The features that have the largest impact to the saleprice of a house is the **area of above ground living area, the overall quality and the area of basement**, this is not surprising as home with larger living areas and better quality should logically command a higher price. \n",
    "2. Apart from the overall quality, the **quality of exterior material and kitchen** can be a good determinant of the saleprice as well. This could be because new homeowners may not want to do renovation to these areas, allowing the properties with good quality existing exterior material and kitchen to command a higher price. \n",
    "3. The **neighborhood of the property** also have huge effect on the saleprice. For example, a property in **Stone Brook can command an additional 6000 dollars** in general, while a property in **Old Town will potentially reduce the saleprice by 1500 dollars** in general. This could be due to the development of the estate.\n",
    "\n",
    "For a homeowner who wish to sell their property, properties like the area, neighborhood or age are relatively hard to change. However, **some possible things that homeowners can do to increase their home values** will include **things that improve the quality of their homes**, such as:\n",
    "1. repairing any defects in the house, repainting the house --> improve the overall material and finish quality\n",
    "2. repairing/upgrading the exterior material --> improve exterior material quality\n",
    "3. repairing/renovating/upgrading the kitchen --> improve kitchen quality\n",
    "4. adding a fireplace if there is none\n",
    "\n",
    "**Limitations**\n",
    "1. As mentioned previously, the model should only be used as a reference. The average error of the model on dataset collected around the same time period is about 20,000 dollars and the model only accounts for 90% of the variations in saleprice. This indicates that there are other factors that affects the saleprice that is currently not accounted by the model. \n",
    "2. The data used is between 2006 to 2010. It may not fit well to present-day data due to inflation. The period of data is also relatively short, hence, may not be as accurate in predicting present-day data.\n",
    "3. The model may have even lower accuracy for predicting property prices in other locations. This is evident as some important features in predicting the saleprice are specific location in Ames, USA. Furthermore, these properties to Singapore, there are also huge differences in the type of features needed. For example, in Singapore, most people stays in HDBs which do not have features such as garage or basement, and with Singapore's climate, a fireplace is not useful or necessary. \n",
    "\n",
    "**To make the model more universal**\n",
    "1. **Features that are location specific should be removed**. These include features such as neighborhood.\n",
    "2. **Data from a longer period of time should be obtained**. This not only checks if the prices are well generalized, but may also allow the model to spot trends in the different years, allowing for a more accurate model.\n",
    "3. **Local culture of the target location** should be accounted for. For example, as mentioned, housing data in Singapore would be vastly different from the housing data we have explored due to the difference in housing options and features needed. A new model should be trained if the target location varies too heavily."
   ]
  },
  {
   "cell_type": "markdown",
   "metadata": {},
   "source": [
    "# Making Submission Files"
   ]
  },
  {
   "cell_type": "code",
   "execution_count": 36,
   "metadata": {
    "ExecuteTime": {
     "end_time": "2020-11-22T13:36:18.928365Z",
     "start_time": "2020-11-22T13:36:18.914347Z"
    }
   },
   "outputs": [],
   "source": [
    "# define a function to make submission files\n",
    "# NOTE: code is commented out, please remove comment below to run if necessary\n",
    "# def make_submission(model, df_test, filename):\n",
    "    \n",
    "#     df = pd.read_csv('../datasets/test.csv')\n",
    "#     submission = df[['Id']].copy()\n",
    "#     submission['SalePrice'] = model.predict(df_test)\n",
    "#     submission.to_csv('../datasets/' + filename + '.csv', index = False)"
   ]
  },
  {
   "cell_type": "code",
   "execution_count": 37,
   "metadata": {
    "ExecuteTime": {
     "end_time": "2020-11-22T13:36:18.943831Z",
     "start_time": "2020-11-22T13:36:18.930361Z"
    }
   },
   "outputs": [],
   "source": [
    "# make a submission file using LassoCV model trained on all features\n",
    "# NOTE: code is commented out, please remove comment below to run if necessary\n",
    "# make_submission(all_features_lasso_model, test, 'submission_lasso_all_features')"
   ]
  },
  {
   "cell_type": "code",
   "execution_count": 38,
   "metadata": {
    "ExecuteTime": {
     "end_time": "2020-11-22T13:36:18.959532Z",
     "start_time": "2020-11-22T13:36:18.945833Z"
    }
   },
   "outputs": [],
   "source": [
    "# make a submission file using RidgeCV model trained on all features\n",
    "# NOTE: code is commented out, please remove comment below to run if necessary\n",
    "# make_submission(all_features_ridge_model, test, 'submission_ridge_all_features')"
   ]
  },
  {
   "cell_type": "code",
   "execution_count": 39,
   "metadata": {
    "ExecuteTime": {
     "end_time": "2020-11-22T13:36:18.974993Z",
     "start_time": "2020-11-22T13:36:18.961854Z"
    }
   },
   "outputs": [],
   "source": [
    "# make a submission file using LassoCV model trained on selected features\n",
    "# NOTE: code is commented out, please remove comment below to run if necessary\n",
    "# make_submission(selected_features_lasso_model, test[selected_features], 'submission_lasso_selected_features')"
   ]
  },
  {
   "cell_type": "code",
   "execution_count": 40,
   "metadata": {
    "ExecuteTime": {
     "end_time": "2020-11-22T13:36:18.990158Z",
     "start_time": "2020-11-22T13:36:18.977001Z"
    }
   },
   "outputs": [],
   "source": [
    "# make a submission file using RidgeCV model trained on selected features\n",
    "# NOTE: code is commented out, please remove comment below to run if necessary\n",
    "# make_submission(selected_features_ridge_model, test[selected_features], 'submission_ridge_selected_features')"
   ]
  },
  {
   "cell_type": "code",
   "execution_count": 41,
   "metadata": {
    "ExecuteTime": {
     "end_time": "2020-11-22T13:36:19.005749Z",
     "start_time": "2020-11-22T13:36:18.991786Z"
    }
   },
   "outputs": [],
   "source": [
    "# make a submission file using Ridge production model trained on selected features\n",
    "# NOTE: code is commented out, please remove comment below to run if necessary\n",
    "# make_submission(ridge_model, test[selected_features], 'submission_production_model_ridge_selected_features')"
   ]
  }
 ],
 "metadata": {
  "kernelspec": {
   "display_name": "Python 3",
   "language": "python",
   "name": "python3"
  },
  "language_info": {
   "codemirror_mode": {
    "name": "ipython",
    "version": 3
   },
   "file_extension": ".py",
   "mimetype": "text/x-python",
   "name": "python",
   "nbconvert_exporter": "python",
   "pygments_lexer": "ipython3",
   "version": "3.7.9"
  },
  "toc": {
   "base_numbering": 1,
   "nav_menu": {},
   "number_sections": false,
   "sideBar": true,
   "skip_h1_title": false,
   "title_cell": "Table of Contents",
   "title_sidebar": "Contents",
   "toc_cell": false,
   "toc_position": {
    "height": "calc(100% - 180px)",
    "left": "10px",
    "top": "150px",
    "width": "300px"
   },
   "toc_section_display": true,
   "toc_window_display": true
  }
 },
 "nbformat": 4,
 "nbformat_minor": 4
}
